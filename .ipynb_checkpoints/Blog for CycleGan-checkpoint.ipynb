{
 "cells": [
  {
   "cell_type": "markdown",
   "metadata": {},
   "source": [
    "# Cross Domain Image Transfer\n",
    "\n",
    "In this blog, We will try to understand different aspects of cross domain image transfer and then I will try to explain recent research paper by Kim et. al https://arxiv.org/pdf/1703.05192v1.pdf."
   ]
  },
  {
   "cell_type": "markdown",
   "metadata": {},
   "source": [
    "So let us first look at the basic structure of blog\n",
    "\n",
    "1.) First we will try to understand the problem statement\n",
    "\n",
    "2.) Second we will look at the high-level architecture\n",
    "\n",
    "3.) Understand the loss function and how it helps in solving the problem statement.\n",
    "\n",
    "4.) Finally we will look at the architecture of the Neural Netwroks, its various elements and what do they signify."
   ]
  },
  {
   "cell_type": "markdown",
   "metadata": {},
   "source": [
    "# Problem Statement\n",
    "\n",
    "Cross domain image transfer basically means converting an image from one domain, say, Chair to another domain of object, say cat, preserving the properties of original image like the shape/curve etc (depending on conversion we want to make). Otherwise we can simply have constant function that always outputs an image of same cat. But that is not interesting to us.\n",
    "\n",
    "Some interesting examples of this model transfer are:\n",
    "\n",
    "1.) Converting an image of animal of one species to that of another one.\n",
    "2.) Making a look alike person of opposite gender. These days it is quite popular with apps like Faceapp. They have also used the Generative Adversial Network model to get the results\n",
    "3.) \n",
    "\n",
    "And the list long based on your imagination.\n",
    "\n",
    "\n",
    "So, let us look at the key component of the problem:\n",
    "\n",
    "1.) Breaking down the key componets of an image. This can be done easily via the convolution networks that has now became integrated part of GAN models. In simple language Convolution networks look at the small patches of an images and extract differenct features out of it. We will go in detail in the later part of this blog about the convolution networks"
   ]
  },
  {
   "cell_type": "code",
   "execution_count": null,
   "metadata": {
    "collapsed": true
   },
   "outputs": [],
   "source": []
  }
 ],
 "metadata": {
  "kernelspec": {
   "display_name": "Python 2",
   "language": "python",
   "name": "python2"
  },
  "language_info": {
   "codemirror_mode": {
    "name": "ipython",
    "version": 2
   },
   "file_extension": ".py",
   "mimetype": "text/x-python",
   "name": "python",
   "nbconvert_exporter": "python",
   "pygments_lexer": "ipython2",
   "version": "2.7.11"
  }
 },
 "nbformat": 4,
 "nbformat_minor": 2
}

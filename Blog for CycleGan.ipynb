{
 "cells": [
  {
   "cell_type": "markdown",
   "metadata": {},
   "source": [
    "# Cross Domain Image Transfer\n",
    "\n",
    "In this blog, We will try to understand different aspects of cross domain image transfer and then I will try to explain recent research paper by Kim et. al https://arxiv.org/pdf/1703.05192v1.pdf."
   ]
  },
  {
   "cell_type": "markdown",
   "metadata": {},
   "source": [
    "So let us first look at the basic structure of blog\n",
    "\n",
    "1.) First we will try to understand the problem statement\n",
    "\n",
    "2.) Second we will look at the high-level architecture\n",
    "\n",
    "3.) Understand the loss function and how it helps in solving the problem statement.\n",
    "\n",
    "4.) Finally we will look at the architecture of the Neural Netwroks, its various elements and what do they signify."
   ]
  },
  {
   "cell_type": "markdown",
   "metadata": {},
   "source": [
    "# Problem Statement\n",
    "\n",
    "Cross domain image transfer basically mean converting an image from one domain, say, Chair to another domain of object, say cat. while it must preserve the properties of original image. Otherwise we can just have constant function that always outputs an image of same cat. But that is not interesting to us."
   ]
  },
  {
   "cell_type": "code",
   "execution_count": null,
   "metadata": {
    "collapsed": true
   },
   "outputs": [],
   "source": []
  }
 ],
 "metadata": {
  "kernelspec": {
   "display_name": "Python 3",
   "language": "python",
   "name": "python3"
  },
  "language_info": {
   "codemirror_mode": {
    "name": "ipython",
    "version": 3
   },
   "file_extension": ".py",
   "mimetype": "text/x-python",
   "name": "python",
   "nbconvert_exporter": "python",
   "pygments_lexer": "ipython3",
   "version": "3.6.0"
  }
 },
 "nbformat": 4,
 "nbformat_minor": 2
}
